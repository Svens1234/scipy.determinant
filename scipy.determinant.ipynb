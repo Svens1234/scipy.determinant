{
 "cells": [
  {
   "cell_type": "code",
   "execution_count": 1,
   "id": "3f5ec870",
   "metadata": {},
   "outputs": [],
   "source": [
    "import numpy as np"
   ]
  },
  {
   "cell_type": "code",
   "execution_count": 2,
   "id": "be5c8307",
   "metadata": {},
   "outputs": [],
   "source": [
    "from scipy import linalg"
   ]
  },
  {
   "cell_type": "code",
   "execution_count": 3,
   "id": "5d5425c8",
   "metadata": {},
   "outputs": [],
   "source": [
    "A=np.mat([[1,3,5],[2,5,1],[2,3,8]])"
   ]
  },
  {
   "cell_type": "code",
   "execution_count": 4,
   "id": "c91b8631",
   "metadata": {},
   "outputs": [],
   "source": [
    "detA=linalg.det(A)#детерминант или определитель матрицы"
   ]
  },
  {
   "cell_type": "code",
   "execution_count": 5,
   "id": "f087b6a8",
   "metadata": {},
   "outputs": [
    {
     "data": {
      "text/plain": [
       "-25.000000000000004"
      ]
     },
     "execution_count": 5,
     "metadata": {},
     "output_type": "execute_result"
    }
   ],
   "source": [
    "detA"
   ]
  },
  {
   "cell_type": "code",
   "execution_count": null,
   "id": "38c928f1",
   "metadata": {},
   "outputs": [],
   "source": []
  }
 ],
 "metadata": {
  "kernelspec": {
   "display_name": "Python 3 (ipykernel)",
   "language": "python",
   "name": "python3"
  },
  "language_info": {
   "codemirror_mode": {
    "name": "ipython",
    "version": 3
   },
   "file_extension": ".py",
   "mimetype": "text/x-python",
   "name": "python",
   "nbconvert_exporter": "python",
   "pygments_lexer": "ipython3",
   "version": "3.8.7"
  }
 },
 "nbformat": 4,
 "nbformat_minor": 5
}
